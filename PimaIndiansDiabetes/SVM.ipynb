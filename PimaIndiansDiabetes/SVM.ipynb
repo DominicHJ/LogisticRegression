{
 "cells": [
  {
   "cell_type": "markdown",
   "metadata": {},
   "source": [
    "# 数据说明\n",
    "在Pima Indians Diabetes Data Set（皮马印第安人糖尿病数据集）进行分类模型训练，数据集只有一个文件（diabetes.csv）：Pima Indians Diabetes Dataset 包括根据医疗记录的比马印第安人5 年内糖尿病的发病情况，这是一个两类分类问题。每个类的样本数目数量不均等。一共有 768 个样本，每个样本有8 个输入变量和1 个输出变量。缺失值通常用零值编码。\n",
    "\n",
    "1) 字段说明  \n",
    "    Pregnancies： 怀孕次数  \n",
    "    Glucose： 口服葡萄糖耐受试验中，2 小时的血浆葡萄糖浓度。  \n",
    "    BloodPressure： 舒张压（mm Hg）  \n",
    "    SkinThickness： 三头肌皮肤褶层厚度（mm）  \n",
    "    Insulin：2 小时血清胰岛素含量（μU/ ml）  \n",
    "    BMI： 体重指数（体重，kg /（身高，m）^ 2）  \n",
    "2) DiabetesPedigreeFunction： 糖尿病家族史  \n",
    "3) Age： 年龄（岁）  \n",
    "    Outcome： 输出变了/类别标签（0 或 1，出现糖尿病为1, 否则为 0）  "
   ]
  },
  {
   "cell_type": "markdown",
   "metadata": {},
   "source": [
    "## 导入必要工具包"
   ]
  },
  {
   "cell_type": "code",
   "execution_count": 84,
   "metadata": {},
   "outputs": [],
   "source": [
    "import pandas as pd \n",
    "import numpy as np\n",
    "\n",
    "from sklearn.model_selection import GridSearchCV\n",
    "\n",
    "#竞赛的评价指标为logloss\n",
    "#from sklearn.metrics import log_loss  \n",
    "#SVM并不能直接输出各类的概率，所以在这个例子中我们用正确率作为模型预测性能的度量\n",
    "from sklearn.metrics import accuracy_score\n",
    "\n",
    "import matplotlib.pyplot as plt\n",
    "from matplotlib import pyplot\n",
    "import seaborn as sns\n",
    "%matplotlib inline"
   ]
  },
  {
   "cell_type": "markdown",
   "metadata": {},
   "source": [
    "## 读取数据 & 数据探索"
   ]
  },
  {
   "cell_type": "code",
   "execution_count": 85,
   "metadata": {},
   "outputs": [
    {
     "data": {
      "text/html": [
       "<div>\n",
       "<style scoped>\n",
       "    .dataframe tbody tr th:only-of-type {\n",
       "        vertical-align: middle;\n",
       "    }\n",
       "\n",
       "    .dataframe tbody tr th {\n",
       "        vertical-align: top;\n",
       "    }\n",
       "\n",
       "    .dataframe thead th {\n",
       "        text-align: right;\n",
       "    }\n",
       "</style>\n",
       "<table border=\"1\" class=\"dataframe\">\n",
       "  <thead>\n",
       "    <tr style=\"text-align: right;\">\n",
       "      <th></th>\n",
       "      <th>Pregnancies</th>\n",
       "      <th>Glucose</th>\n",
       "      <th>BloodPressure</th>\n",
       "      <th>SkinThickness</th>\n",
       "      <th>Insulin</th>\n",
       "      <th>BMI</th>\n",
       "      <th>DiabetesPedigreeFunction</th>\n",
       "      <th>Age</th>\n",
       "      <th>Outcome</th>\n",
       "    </tr>\n",
       "  </thead>\n",
       "  <tbody>\n",
       "    <tr>\n",
       "      <th>0</th>\n",
       "      <td>6</td>\n",
       "      <td>148</td>\n",
       "      <td>72</td>\n",
       "      <td>35</td>\n",
       "      <td>0</td>\n",
       "      <td>33.6</td>\n",
       "      <td>0.627</td>\n",
       "      <td>50</td>\n",
       "      <td>1</td>\n",
       "    </tr>\n",
       "    <tr>\n",
       "      <th>1</th>\n",
       "      <td>1</td>\n",
       "      <td>85</td>\n",
       "      <td>66</td>\n",
       "      <td>29</td>\n",
       "      <td>0</td>\n",
       "      <td>26.6</td>\n",
       "      <td>0.351</td>\n",
       "      <td>31</td>\n",
       "      <td>0</td>\n",
       "    </tr>\n",
       "    <tr>\n",
       "      <th>2</th>\n",
       "      <td>8</td>\n",
       "      <td>183</td>\n",
       "      <td>64</td>\n",
       "      <td>0</td>\n",
       "      <td>0</td>\n",
       "      <td>23.3</td>\n",
       "      <td>0.672</td>\n",
       "      <td>32</td>\n",
       "      <td>1</td>\n",
       "    </tr>\n",
       "    <tr>\n",
       "      <th>3</th>\n",
       "      <td>1</td>\n",
       "      <td>89</td>\n",
       "      <td>66</td>\n",
       "      <td>23</td>\n",
       "      <td>94</td>\n",
       "      <td>28.1</td>\n",
       "      <td>0.167</td>\n",
       "      <td>21</td>\n",
       "      <td>0</td>\n",
       "    </tr>\n",
       "    <tr>\n",
       "      <th>4</th>\n",
       "      <td>0</td>\n",
       "      <td>137</td>\n",
       "      <td>40</td>\n",
       "      <td>35</td>\n",
       "      <td>168</td>\n",
       "      <td>43.1</td>\n",
       "      <td>2.288</td>\n",
       "      <td>33</td>\n",
       "      <td>1</td>\n",
       "    </tr>\n",
       "  </tbody>\n",
       "</table>\n",
       "</div>"
      ],
      "text/plain": [
       "   Pregnancies  Glucose  BloodPressure  SkinThickness  Insulin   BMI  \\\n",
       "0            6      148             72             35        0  33.6   \n",
       "1            1       85             66             29        0  26.6   \n",
       "2            8      183             64              0        0  23.3   \n",
       "3            1       89             66             23       94  28.1   \n",
       "4            0      137             40             35      168  43.1   \n",
       "\n",
       "   DiabetesPedigreeFunction  Age  Outcome  \n",
       "0                     0.627   50        1  \n",
       "1                     0.351   31        0  \n",
       "2                     0.672   32        1  \n",
       "3                     0.167   21        0  \n",
       "4                     2.288   33        1  "
      ]
     },
     "execution_count": 85,
     "metadata": {},
     "output_type": "execute_result"
    }
   ],
   "source": [
    "# 读取数据\n",
    "data = pd.read_csv(\"diabetes.csv\")\n",
    "data.head()"
   ]
  },
  {
   "cell_type": "code",
   "execution_count": 86,
   "metadata": {},
   "outputs": [
    {
     "name": "stdout",
     "output_type": "stream",
     "text": [
      "<class 'pandas.core.frame.DataFrame'>\n",
      "RangeIndex: 768 entries, 0 to 767\n",
      "Data columns (total 9 columns):\n",
      "Pregnancies                 768 non-null int64\n",
      "Glucose                     768 non-null int64\n",
      "BloodPressure               768 non-null int64\n",
      "SkinThickness               768 non-null int64\n",
      "Insulin                     768 non-null int64\n",
      "BMI                         768 non-null float64\n",
      "DiabetesPedigreeFunction    768 non-null float64\n",
      "Age                         768 non-null int64\n",
      "Outcome                     768 non-null int64\n",
      "dtypes: float64(2), int64(7)\n",
      "memory usage: 54.1 KB\n"
     ]
    }
   ],
   "source": [
    "data.info()"
   ]
  },
  {
   "cell_type": "code",
   "execution_count": 87,
   "metadata": {
    "scrolled": false
   },
   "outputs": [
    {
     "data": {
      "text/html": [
       "<div>\n",
       "<style scoped>\n",
       "    .dataframe tbody tr th:only-of-type {\n",
       "        vertical-align: middle;\n",
       "    }\n",
       "\n",
       "    .dataframe tbody tr th {\n",
       "        vertical-align: top;\n",
       "    }\n",
       "\n",
       "    .dataframe thead th {\n",
       "        text-align: right;\n",
       "    }\n",
       "</style>\n",
       "<table border=\"1\" class=\"dataframe\">\n",
       "  <thead>\n",
       "    <tr style=\"text-align: right;\">\n",
       "      <th></th>\n",
       "      <th>Pregnancies</th>\n",
       "      <th>Glucose</th>\n",
       "      <th>BloodPressure</th>\n",
       "      <th>SkinThickness</th>\n",
       "      <th>Insulin</th>\n",
       "      <th>BMI</th>\n",
       "      <th>DiabetesPedigreeFunction</th>\n",
       "      <th>Age</th>\n",
       "      <th>Outcome</th>\n",
       "    </tr>\n",
       "  </thead>\n",
       "  <tbody>\n",
       "    <tr>\n",
       "      <th>count</th>\n",
       "      <td>768.000000</td>\n",
       "      <td>768.000000</td>\n",
       "      <td>768.000000</td>\n",
       "      <td>768.000000</td>\n",
       "      <td>768.000000</td>\n",
       "      <td>768.000000</td>\n",
       "      <td>768.000000</td>\n",
       "      <td>768.000000</td>\n",
       "      <td>768.000000</td>\n",
       "    </tr>\n",
       "    <tr>\n",
       "      <th>mean</th>\n",
       "      <td>3.845052</td>\n",
       "      <td>120.894531</td>\n",
       "      <td>69.105469</td>\n",
       "      <td>20.536458</td>\n",
       "      <td>79.799479</td>\n",
       "      <td>31.992578</td>\n",
       "      <td>0.471876</td>\n",
       "      <td>33.240885</td>\n",
       "      <td>0.348958</td>\n",
       "    </tr>\n",
       "    <tr>\n",
       "      <th>std</th>\n",
       "      <td>3.369578</td>\n",
       "      <td>31.972618</td>\n",
       "      <td>19.355807</td>\n",
       "      <td>15.952218</td>\n",
       "      <td>115.244002</td>\n",
       "      <td>7.884160</td>\n",
       "      <td>0.331329</td>\n",
       "      <td>11.760232</td>\n",
       "      <td>0.476951</td>\n",
       "    </tr>\n",
       "    <tr>\n",
       "      <th>min</th>\n",
       "      <td>0.000000</td>\n",
       "      <td>0.000000</td>\n",
       "      <td>0.000000</td>\n",
       "      <td>0.000000</td>\n",
       "      <td>0.000000</td>\n",
       "      <td>0.000000</td>\n",
       "      <td>0.078000</td>\n",
       "      <td>21.000000</td>\n",
       "      <td>0.000000</td>\n",
       "    </tr>\n",
       "    <tr>\n",
       "      <th>25%</th>\n",
       "      <td>1.000000</td>\n",
       "      <td>99.000000</td>\n",
       "      <td>62.000000</td>\n",
       "      <td>0.000000</td>\n",
       "      <td>0.000000</td>\n",
       "      <td>27.300000</td>\n",
       "      <td>0.243750</td>\n",
       "      <td>24.000000</td>\n",
       "      <td>0.000000</td>\n",
       "    </tr>\n",
       "    <tr>\n",
       "      <th>50%</th>\n",
       "      <td>3.000000</td>\n",
       "      <td>117.000000</td>\n",
       "      <td>72.000000</td>\n",
       "      <td>23.000000</td>\n",
       "      <td>30.500000</td>\n",
       "      <td>32.000000</td>\n",
       "      <td>0.372500</td>\n",
       "      <td>29.000000</td>\n",
       "      <td>0.000000</td>\n",
       "    </tr>\n",
       "    <tr>\n",
       "      <th>75%</th>\n",
       "      <td>6.000000</td>\n",
       "      <td>140.250000</td>\n",
       "      <td>80.000000</td>\n",
       "      <td>32.000000</td>\n",
       "      <td>127.250000</td>\n",
       "      <td>36.600000</td>\n",
       "      <td>0.626250</td>\n",
       "      <td>41.000000</td>\n",
       "      <td>1.000000</td>\n",
       "    </tr>\n",
       "    <tr>\n",
       "      <th>max</th>\n",
       "      <td>17.000000</td>\n",
       "      <td>199.000000</td>\n",
       "      <td>122.000000</td>\n",
       "      <td>99.000000</td>\n",
       "      <td>846.000000</td>\n",
       "      <td>67.100000</td>\n",
       "      <td>2.420000</td>\n",
       "      <td>81.000000</td>\n",
       "      <td>1.000000</td>\n",
       "    </tr>\n",
       "  </tbody>\n",
       "</table>\n",
       "</div>"
      ],
      "text/plain": [
       "       Pregnancies     Glucose  BloodPressure  SkinThickness     Insulin  \\\n",
       "count   768.000000  768.000000     768.000000     768.000000  768.000000   \n",
       "mean      3.845052  120.894531      69.105469      20.536458   79.799479   \n",
       "std       3.369578   31.972618      19.355807      15.952218  115.244002   \n",
       "min       0.000000    0.000000       0.000000       0.000000    0.000000   \n",
       "25%       1.000000   99.000000      62.000000       0.000000    0.000000   \n",
       "50%       3.000000  117.000000      72.000000      23.000000   30.500000   \n",
       "75%       6.000000  140.250000      80.000000      32.000000  127.250000   \n",
       "max      17.000000  199.000000     122.000000      99.000000  846.000000   \n",
       "\n",
       "              BMI  DiabetesPedigreeFunction         Age     Outcome  \n",
       "count  768.000000                768.000000  768.000000  768.000000  \n",
       "mean    31.992578                  0.471876   33.240885    0.348958  \n",
       "std      7.884160                  0.331329   11.760232    0.476951  \n",
       "min      0.000000                  0.078000   21.000000    0.000000  \n",
       "25%     27.300000                  0.243750   24.000000    0.000000  \n",
       "50%     32.000000                  0.372500   29.000000    0.000000  \n",
       "75%     36.600000                  0.626250   41.000000    1.000000  \n",
       "max     67.100000                  2.420000   81.000000    1.000000  "
      ]
     },
     "execution_count": 87,
     "metadata": {},
     "output_type": "execute_result"
    }
   ],
   "source": [
    "# 各属性统计特征\n",
    "data.describe()"
   ]
  },
  {
   "cell_type": "markdown",
   "metadata": {},
   "source": [
    "从数据的大致取值可以看出，数据没有做脱敏处理，有单位和具体的物理含义，train.info虽然显示没有缺失值，但有些特征数据明显不对，如舒张压和体重等特征都不应该存在零值，（舒张压为0是说明这个人已经挂了么，体重身高比为0[捂脸]）应该是存在缺失值，但直接使用了零值进行填充，"
   ]
  },
  {
   "cell_type": "code",
   "execution_count": 88,
   "metadata": {
    "scrolled": true
   },
   "outputs": [
    {
     "data": {
      "image/png": "[encoded data removed]",
      "text/plain": [
       "<Figure size 432x288 with 1 Axes>"
      ]
     },
     "metadata": {},
     "output_type": "display_data"
    }
   ],
   "source": [
    "# Target 分布，看看各类样本分布是否均衡\n",
    "sns.countplot(data.Outcome);\n",
    "pyplot.xlabel('Outcome');\n",
    "pyplot.ylabel('Number of occurrences');"
   ]
  },
  {
   "cell_type": "markdown",
   "metadata": {},
   "source": [
    "分类结果中正例的样本约为反例样本的一半多一些，样本不均衡，交叉验证对分类任务缺省的是采用StratifiedKFold，在每折采样时根据各类样本按比例采样"
   ]
  },
  {
   "cell_type": "markdown",
   "metadata": {},
   "source": [
    "## 数据准备"
   ]
  },
  {
   "cell_type": "code",
   "execution_count": 89,
   "metadata": {},
   "outputs": [
    {
     "data": {
      "text/plain": [
       "(768, 7)"
      ]
     },
     "execution_count": 89,
     "metadata": {},
     "output_type": "execute_result"
    }
   ],
   "source": [
    "data = data.drop('SkinThickness', axis=1)\n",
    "data = data.drop('Insulin', axis=1)\n",
    "\n",
    "data.shape"
   ]
  },
  {
   "cell_type": "markdown",
   "metadata": {},
   "source": [
    "三头肌皮肤褶层厚度和血清胰岛素两个特征为0值的样本数太多，但不确定是否去除之后更合理些，通过后续模型训练，分别尝试去除看效果如何"
   ]
  },
  {
   "cell_type": "code",
   "execution_count": 90,
   "metadata": {},
   "outputs": [
    {
     "data": {
      "text/plain": [
       "(768, 7)"
      ]
     },
     "execution_count": 90,
     "metadata": {},
     "output_type": "execute_result"
    }
   ],
   "source": [
    "for i in range(768):\n",
    "    if data.Glucose.values[i] == 0:\n",
    "        data.Glucose.values[i] = 117\n",
    "    if data.BloodPressure.values[i] == 0:\n",
    "        data.BloodPressure.values[i] = 72\n",
    "    if data.BMI.values[i] == 0:\n",
    "        data.BMI.values[i] = 32\n",
    "        \n",
    "data.shape"
   ]
  },
  {
   "cell_type": "markdown",
   "metadata": {},
   "source": [
    "从特征工程可看出，有三个特征（血浆葡萄糖浓度、舒张压、体重指数）对应的样本数据存在少部分缺失，其中零值即为缺失值，使用对应特征的中位数进行替换填充，由于读取的数据文件缺失值使用了零值编码，而不是直接空着，无法使用sklearn.preprocessing.Imputer进行填充，故使用循环判断的方式进行填充 \n",
    "\n",
    "其中中位数如下：  \n",
    "Glucose ：117  \n",
    "BloodPressure ：72  \n",
    "BMI ：32  "
   ]
  },
  {
   "cell_type": "code",
   "execution_count": 91,
   "metadata": {},
   "outputs": [],
   "source": [
    "# 从原始数据中分离输入特征x和输出y\n",
    "y = data['Outcome'].values\n",
    "X = data.drop('Outcome', axis = 1)"
   ]
  },
  {
   "cell_type": "code",
   "execution_count": 92,
   "metadata": {},
   "outputs": [
    {
     "data": {
      "text/plain": [
       "(614, 6)"
      ]
     },
     "execution_count": 92,
     "metadata": {},
     "output_type": "execute_result"
    }
   ],
   "source": [
    "#将数据分割训练数据与测试数据\n",
    "from sklearn.model_selection import train_test_split\n",
    "\n",
    "# 随机采样20%的数据构建测试样本，其余作为训练样本\n",
    "X_train, X_test, y_train, y_test = train_test_split(X, y, random_state=33, test_size=0.2)\n",
    "X_train.shape"
   ]
  },
  {
   "cell_type": "code",
   "execution_count": 93,
   "metadata": {},
   "outputs": [],
   "source": [
    "X_train = np.array(X_train)\n",
    "X_test = np.array(X_test)"
   ]
  },
  {
   "cell_type": "markdown",
   "metadata": {},
   "source": [
    "## 数据预处理"
   ]
  },
  {
   "cell_type": "code",
   "execution_count": 94,
   "metadata": {},
   "outputs": [],
   "source": [
    "# 数据标准化\n",
    "from sklearn.preprocessing import StandardScaler\n",
    "\n",
    "# 初始化特征的标准化器\n",
    "ss_X = StandardScaler()\n",
    "\n",
    "# 分别对训练和测试数据的特征进行标准化处理\n",
    "X_train = ss_X.fit_transform(X_train)\n",
    "X_test = ss_X.transform(X_test)"
   ]
  },
  {
   "cell_type": "markdown",
   "metadata": {},
   "source": [
    "## 模型训练"
   ]
  },
  {
   "cell_type": "markdown",
   "metadata": {},
   "source": [
    "### SVM（训练中增加权重参数）"
   ]
  },
  {
   "cell_type": "code",
   "execution_count": 95,
   "metadata": {},
   "outputs": [],
   "source": [
    "def LinearSVC_performance(C, X_train, y_train, X_test, y_test):\n",
    "    \n",
    "    # 在训练集是那个利用SVC训练\n",
    "    SVC2 =  LinearSVC(C = C, class_weight={0:0.3489, 1:0.6511})\n",
    "    SVC2 = SVC2.fit(X_train, y_train)\n",
    "    \n",
    "    # 在校验集上返回accuracy\n",
    "    accuracy = SVC2.score(X_test, y_test)\n",
    "    \n",
    "    print(\"accuracy: {}\".format(accuracy))\n",
    "    return accuracy"
   ]
  },
  {
   "cell_type": "markdown",
   "metadata": {},
   "source": [
    "定义模型性能最终评估函数，在测试集上使用训练得到的LinearSVC（包含已确定的参数C）进行数据分类，并返回正确率"
   ]
  },
  {
   "cell_type": "markdown",
   "metadata": {},
   "source": [
    "### 1 default SVC"
   ]
  },
  {
   "cell_type": "markdown",
   "metadata": {},
   "source": [
    "由于LinerSVC是基于libliner实现的SVM的，而SVC/NuSVC是基于libsvm实现的，所以如果核函数想采用的线性核，linerSVC的训练效率更高一点，且可以有更多正则选择（L1/L2）和损失函数选择"
   ]
  },
  {
   "cell_type": "code",
   "execution_count": 96,
   "metadata": {},
   "outputs": [],
   "source": [
    "from sklearn.svm import LinearSVC\n",
    "\n",
    "SVC1_train = LinearSVC(class_weight={0:0.3489, 1:0.6511})"
   ]
  },
  {
   "cell_type": "markdown",
   "metadata": {},
   "source": [
    "因为数据探索时发现，样本在分类时，0类别比1类别多很多，所以在训练时，加上class_weight权重，让模型训练更合理些"
   ]
  },
  {
   "cell_type": "code",
   "execution_count": 97,
   "metadata": {},
   "outputs": [
    {
     "name": "stdout",
     "output_type": "stream",
     "text": [
      "accuracy of each fold is:  [0.76612903 0.72357724 0.7804878  0.81967213 0.71311475]\n",
      "cv accuracy is: 0.7605961916308746\n"
     ]
    }
   ],
   "source": [
    "from sklearn.cross_validation import cross_val_score\n",
    "accuracy = cross_val_score(SVC1_train, X_train, y_train, cv=5, scoring='accuracy')\n",
    "print('accuracy of each fold is: ',accuracy)\n",
    "print('cv accuracy is:', accuracy.mean())"
   ]
  },
  {
   "cell_type": "markdown",
   "metadata": {},
   "source": [
    "由于本数据集的样本数只有768个，数据量不大，使用交叉验证得出模型在训练集上的正确率比较合适  \n",
    "上述结果得出，缺省参数（C = 1.0）的LinearSVC模型训练后，在训练集上的准确率为 0.7605961916308746"
   ]
  },
  {
   "cell_type": "code",
   "execution_count": 98,
   "metadata": {},
   "outputs": [
    {
     "name": "stdout",
     "output_type": "stream",
     "text": [
      "Classification report for classifier LinearSVC(C=1.0, class_weight={0: 0.3489, 1: 0.6511}, dual=True,\n",
      "     fit_intercept=True, intercept_scaling=1, loss='squared_hinge',\n",
      "     max_iter=1000, multi_class='ovr', penalty='l2', random_state=None,\n",
      "     tol=0.0001, verbose=0):\n",
      "             precision    recall  f1-score   support\n",
      "\n",
      "          0       0.80      0.83      0.82        99\n",
      "          1       0.67      0.64      0.65        55\n",
      "\n",
      "avg / total       0.76      0.76      0.76       154\n",
      "\n",
      "\n",
      "Confusion matrix:\n",
      "[[82 17]\n",
      " [20 35]]\n"
     ]
    }
   ],
   "source": [
    "from sklearn.metrics import classification_report\n",
    "from sklearn.metrics import confusion_matrix\n",
    "#使用训练集训练出模型，并在测试集上看模型预测的情况\n",
    "SVC1 = LinearSVC(class_weight={0:0.3489, 1:0.6511}).fit(X_train, y_train)\n",
    "y_predict = SVC1.predict(X_test)\n",
    "\n",
    "print(\"Classification report for classifier %s:\\n%s\\n\"\n",
    "      % (SVC1, classification_report(y_test, y_predict)))\n",
    "print(\"Confusion matrix:\\n%s\" % confusion_matrix(y_test, y_predict))"
   ]
  },
  {
   "cell_type": "markdown",
   "metadata": {},
   "source": [
    "对角线参数表示分正确的数目"
   ]
  },
  {
   "cell_type": "code",
   "execution_count": 99,
   "metadata": {},
   "outputs": [
    {
     "name": "stdout",
     "output_type": "stream",
     "text": [
      "accuracy: 0.7597402597402597\n",
      "default SVC accuracy on test data: 0.7597402597402597\n"
     ]
    }
   ],
   "source": [
    "default_SVC_accuracy = LinearSVC_performance(1.0, X_train, y_train, X_test, y_test)\n",
    "print('default SVC accuracy on test data:', default_SVC_accuracy)"
   ]
  },
  {
   "cell_type": "markdown",
   "metadata": {},
   "source": [
    "缺省参数（C = 1.0）的LinearSVC模型训练后，在测试集上的准确率为 0.7597402597402597，比训练集略低一点点"
   ]
  },
  {
   "cell_type": "markdown",
   "metadata": {},
   "source": [
    "### 2 线性SVM正则参数调优"
   ]
  },
  {
   "cell_type": "code",
   "execution_count": 100,
   "metadata": {},
   "outputs": [
    {
     "data": {
      "text/plain": [
       "GridSearchCV(cv=5, error_score='raise',\n",
       "       estimator=LinearSVC(C=1.0, class_weight={0: 0.3489, 1: 0.6511}, dual=True,\n",
       "     fit_intercept=True, intercept_scaling=1, loss='squared_hinge',\n",
       "     max_iter=1000, multi_class='ovr', penalty='l2', random_state=None,\n",
       "     tol=0.0001, verbose=0),\n",
       "       fit_params=None, iid=True, n_jobs=1,\n",
       "       param_grid={'C': array([1.e-03, 1.e-02, 1.e-01, 1.e+00, 1.e+01, 1.e+02, 1.e+03])},\n",
       "       pre_dispatch='2*n_jobs', refit=True, return_train_score='warn',\n",
       "       scoring='accuracy', verbose=0)"
      ]
     },
     "execution_count": 100,
     "metadata": {},
     "output_type": "execute_result"
    }
   ],
   "source": [
    "from sklearn.model_selection import GridSearchCV\n",
    "#Cs = [0.001, 0.01, 0.1, 1, 10, 100, 1000]\n",
    "#penaltys = ['l1','l2']\n",
    "Cs = np.logspace(-3, 3, 7)\n",
    "tuned_parameters = dict(C = Cs)\n",
    "\n",
    "SVC3 = LinearSVC(class_weight={0:0.3489, 1:0.6511})\n",
    "grid= GridSearchCV(SVC3, tuned_parameters,cv=5, scoring='accuracy')\n",
    "grid.fit(X_train,y_train)"
   ]
  },
  {
   "cell_type": "markdown",
   "metadata": {},
   "source": [
    "因为样本数量不大，这边直接使用GridSearchCV对不同候选参数C进行训练"
   ]
  },
  {
   "cell_type": "code",
   "execution_count": 101,
   "metadata": {
    "scrolled": true
   },
   "outputs": [
    {
     "name": "stderr",
     "output_type": "stream",
     "text": [
      "C:\\ProgramData\\Anaconda3\\lib\\site-packages\\sklearn\\utils\\deprecation.py:122: FutureWarning: You are accessing a training score ('mean_train_score'), which will not be available by default any more in 0.21. If you need training scores, please set return_train_score=True\n",
      "  warnings.warn(*warn_args, **warn_kwargs)\n",
      "C:\\ProgramData\\Anaconda3\\lib\\site-packages\\sklearn\\utils\\deprecation.py:122: FutureWarning: You are accessing a training score ('split0_train_score'), which will not be available by default any more in 0.21. If you need training scores, please set return_train_score=True\n",
      "  warnings.warn(*warn_args, **warn_kwargs)\n",
      "C:\\ProgramData\\Anaconda3\\lib\\site-packages\\sklearn\\utils\\deprecation.py:122: FutureWarning: You are accessing a training score ('split1_train_score'), which will not be available by default any more in 0.21. If you need training scores, please set return_train_score=True\n",
      "  warnings.warn(*warn_args, **warn_kwargs)\n",
      "C:\\ProgramData\\Anaconda3\\lib\\site-packages\\sklearn\\utils\\deprecation.py:122: FutureWarning: You are accessing a training score ('split2_train_score'), which will not be available by default any more in 0.21. If you need training scores, please set return_train_score=True\n",
      "  warnings.warn(*warn_args, **warn_kwargs)\n",
      "C:\\ProgramData\\Anaconda3\\lib\\site-packages\\sklearn\\utils\\deprecation.py:122: FutureWarning: You are accessing a training score ('split3_train_score'), which will not be available by default any more in 0.21. If you need training scores, please set return_train_score=True\n",
      "  warnings.warn(*warn_args, **warn_kwargs)\n",
      "C:\\ProgramData\\Anaconda3\\lib\\site-packages\\sklearn\\utils\\deprecation.py:122: FutureWarning: You are accessing a training score ('split4_train_score'), which will not be available by default any more in 0.21. If you need training scores, please set return_train_score=True\n",
      "  warnings.warn(*warn_args, **warn_kwargs)\n",
      "C:\\ProgramData\\Anaconda3\\lib\\site-packages\\sklearn\\utils\\deprecation.py:122: FutureWarning: You are accessing a training score ('std_train_score'), which will not be available by default any more in 0.21. If you need training scores, please set return_train_score=True\n",
      "  warnings.warn(*warn_args, **warn_kwargs)\n"
     ]
    },
    {
     "data": {
      "text/plain": [
       "{'mean_fit_time': array([0.00100074, 0.00140028, 0.00360222, 0.01340714, 0.03602319,\n",
       "        0.03502364, 0.03602395]),\n",
       " 'mean_score_time': array([0.00060081, 0.00080099, 0.00040035, 0.00020051, 0.00020008,\n",
       "        0.00020037, 0.00040026]),\n",
       " 'mean_test_score': array([0.72638436, 0.76710098, 0.75895765, 0.76058632, 0.76058632,\n",
       "        0.75081433, 0.6514658 ]),\n",
       " 'mean_train_score': array([0.72597855, 0.75774223, 0.76670024, 0.76792224, 0.7675149 ,\n",
       "        0.76872528, 0.64939249]),\n",
       " 'param_C': masked_array(data=[0.001, 0.01, 0.1, 1.0, 10.0, 100.0, 1000.0],\n",
       "              mask=[False, False, False, False, False, False, False],\n",
       "        fill_value='?',\n",
       "             dtype=object),\n",
       " 'params': [{'C': 0.001},\n",
       "  {'C': 0.01},\n",
       "  {'C': 0.1},\n",
       "  {'C': 1.0},\n",
       "  {'C': 10.0},\n",
       "  {'C': 100.0},\n",
       "  {'C': 1000.0}],\n",
       " 'rank_test_score': array([6, 1, 4, 2, 2, 5, 7]),\n",
       " 'split0_test_score': array([0.74193548, 0.75806452, 0.76612903, 0.76612903, 0.76612903,\n",
       "        0.74193548, 0.56451613]),\n",
       " 'split0_train_score': array([0.7244898 , 0.76326531, 0.7755102 , 0.7755102 , 0.7755102 ,\n",
       "        0.75918367, 0.60612245]),\n",
       " 'split1_test_score': array([0.71544715, 0.73170732, 0.71544715, 0.72357724, 0.72357724,\n",
       "        0.73170732, 0.74796748]),\n",
       " 'split1_train_score': array([0.72505092, 0.75356415, 0.75763747, 0.76171079, 0.76171079,\n",
       "        0.77393075, 0.74949084]),\n",
       " 'split2_test_score': array([0.71544715, 0.78861789, 0.7804878 , 0.7804878 , 0.7804878 ,\n",
       "        0.77235772, 0.58536585]),\n",
       " 'split2_train_score': array([0.73319756, 0.76578411, 0.77393075, 0.77596741, 0.77393075,\n",
       "        0.77189409, 0.54378819]),\n",
       " 'split3_test_score': array([0.77868852, 0.82786885, 0.81967213, 0.81967213, 0.81967213,\n",
       "        0.81967213, 0.68852459]),\n",
       " 'split3_train_score': array([0.71138211, 0.74593496, 0.7601626 , 0.75813008, 0.75813008,\n",
       "        0.77642276, 0.69105691]),\n",
       " 'split4_test_score': array([0.68032787, 0.7295082 , 0.71311475, 0.71311475, 0.71311475,\n",
       "        0.68852459, 0.67213115]),\n",
       " 'split4_train_score': array([0.73577236, 0.7601626 , 0.76626016, 0.76829268, 0.76829268,\n",
       "        0.76219512, 0.65650407]),\n",
       " 'std_fit_time': array([5.56082906e-07, 4.89745803e-04, 8.00943410e-04, 2.72922185e-03,\n",
       "        2.53137287e-03, 1.09658523e-03, 1.99945010e-03]),\n",
       " 'std_score_time': array([0.00049056, 0.0004005 , 0.00049033, 0.00040102, 0.00040016,\n",
       "        0.00040073, 0.00049021]),\n",
       " 'std_test_score': array([0.03258564, 0.03707729, 0.04040444, 0.03874764, 0.03874764,\n",
       "        0.0435325 , 0.0680101 ]),\n",
       " 'std_train_score': array([0.00853423, 0.00718196, 0.00714092, 0.00716809, 0.00674471,\n",
       "        0.00678343, 0.07047091])}"
      ]
     },
     "execution_count": 101,
     "metadata": {},
     "output_type": "execute_result"
    }
   ],
   "source": [
    "grid.cv_results_"
   ]
  },
  {
   "cell_type": "code",
   "execution_count": 102,
   "metadata": {},
   "outputs": [
    {
     "name": "stdout",
     "output_type": "stream",
     "text": [
      "0.7671009771986971\n",
      "{'C': 0.01}\n"
     ]
    }
   ],
   "source": [
    "# examine the best model\n",
    "print(grid.best_score_)\n",
    "print(grid.best_params_)"
   ]
  },
  {
   "cell_type": "code",
   "execution_count": 103,
   "metadata": {},
   "outputs": [
    {
     "name": "stdout",
     "output_type": "stream",
     "text": [
      "accuracy: 0.7662337662337663\n",
      "default SVC accuracy on test data: 0.7662337662337663\n"
     ]
    }
   ],
   "source": [
    "best_SVC_accuracy = LinearSVC_performance(0.01, X_train, y_train, X_test, y_test)\n",
    "print('default SVC accuracy on test data:', best_SVC_accuracy)"
   ]
  },
  {
   "cell_type": "markdown",
   "metadata": {},
   "source": [
    "发现最佳的参数 C 最优取值是 0.01，此时在训练集上得到的正确率是0.757328990228013，和上面直接做缺省参数LinearSVC得到的准确率差不多  \n",
    "第一次 缺省参数LinearSVC 训练集上正确率：0.7605961916308746  测试集上正确率：0.7597402597402597  \n",
    "第二次 参数调优LinearSVC 训练集上正确率：0.7671009771986971  测试集上正确率： 0.7662337662337663  \n",
    "\n",
    "在选出最优参数C=0.01后，训练的效果比默认参数C=1好，在训练集和测试集上的正确率均有所提升"
   ]
  },
  {
   "cell_type": "markdown",
   "metadata": {},
   "source": [
    "### 3 RBF核SVM正则参数调优"
   ]
  },
  {
   "cell_type": "code",
   "execution_count": 104,
   "metadata": {},
   "outputs": [],
   "source": [
    "from sklearn.svm import SVC"
   ]
  },
  {
   "cell_type": "code",
   "execution_count": 105,
   "metadata": {},
   "outputs": [],
   "source": [
    "def SVC_performance(C, gamma, X_train, y_train, X_test, y_test):\n",
    "    \n",
    "    # 在训练集是那个利用SVC训练\n",
    "    SVC4 =  SVC(C = C, kernel='rbf', gamma = gamma, class_weight={0:0.3489, 1:0.6511})\n",
    "    SVC4 = SVC4.fit(X_train, y_train)\n",
    "    \n",
    "    # 在校验集上返回accuracy\n",
    "    accuracy = SVC4.score(X_test, y_test)\n",
    "    \n",
    "    print(\"accuracy: {}\".format(accuracy))\n",
    "    return accuracy"
   ]
  },
  {
   "cell_type": "markdown",
   "metadata": {},
   "source": [
    "定义模型性能最终评估函数，在测试集上使用训练得到的SVC（包含最优参数C，gamma）进行数据分类，并返回正确率"
   ]
  },
  {
   "cell_type": "code",
   "execution_count": 106,
   "metadata": {},
   "outputs": [
    {
     "data": {
      "text/plain": [
       "GridSearchCV(cv=5, error_score='raise',\n",
       "       estimator=SVC(C=1.0, cache_size=200, class_weight={0: 0.3489, 1: 0.6511}, coef0=0.0,\n",
       "  decision_function_shape='ovr', degree=3, gamma='auto', kernel='rbf',\n",
       "  max_iter=-1, probability=False, random_state=None, shrinking=True,\n",
       "  tol=0.001, verbose=False),\n",
       "       fit_params=None, iid=True, n_jobs=1,\n",
       "       param_grid={'gamma': array([1.e-04, 1.e-03, 1.e-02, 1.e-01, 1.e+00, 1.e+01, 1.e+02, 1.e+03,\n",
       "       1.e+04]), 'C': array([1.e-04, 1.e-03, 1.e-02, 1.e-01, 1.e+00, 1.e+01, 1.e+02, 1.e+03,\n",
       "       1.e+04])},\n",
       "       pre_dispatch='2*n_jobs', refit=True, return_train_score='warn',\n",
       "       scoring='accuracy', verbose=0)"
      ]
     },
     "execution_count": 106,
     "metadata": {},
     "output_type": "execute_result"
    }
   ],
   "source": [
    "from sklearn.model_selection import GridSearchCV\n",
    "\n",
    "C_s = np.logspace(-4, 4, 9)\n",
    "gamma_s = np.logspace(-4, 4, 9) \n",
    "#C_s = [0.001, 0.01, 0.1, 1, 10, 100, 1000, 10000]\n",
    "#gamma_s = [0.001, 0.01, 0.1, 1, 10, 100, 1000]\n",
    "tuned_parameters = dict(gamma = gamma_s, C = C_s)\n",
    "\n",
    "SVC5 = SVC(class_weight={0:0.3489, 1:0.6511})\n",
    "grid= GridSearchCV(SVC5, tuned_parameters,cv=5, scoring='accuracy')\n",
    "grid.fit(X_train,y_train)"
   ]
  },
  {
   "cell_type": "code",
   "execution_count": 107,
   "metadata": {
    "scrolled": true
   },
   "outputs": [
    {
     "name": "stderr",
     "output_type": "stream",
     "text": [
      "C:\\ProgramData\\Anaconda3\\lib\\site-packages\\sklearn\\utils\\deprecation.py:122: FutureWarning: You are accessing a training score ('mean_train_score'), which will not be available by default any more in 0.21. If you need training scores, please set return_train_score=True\n",
      "  warnings.warn(*warn_args, **warn_kwargs)\n",
      "C:\\ProgramData\\Anaconda3\\lib\\site-packages\\sklearn\\utils\\deprecation.py:122: FutureWarning: You are accessing a training score ('split0_train_score'), which will not be available by default any more in 0.21. If you need training scores, please set return_train_score=True\n",
      "  warnings.warn(*warn_args, **warn_kwargs)\n",
      "C:\\ProgramData\\Anaconda3\\lib\\site-packages\\sklearn\\utils\\deprecation.py:122: FutureWarning: You are accessing a training score ('split1_train_score'), which will not be available by default any more in 0.21. If you need training scores, please set return_train_score=True\n",
      "  warnings.warn(*warn_args, **warn_kwargs)\n",
      "C:\\ProgramData\\Anaconda3\\lib\\site-packages\\sklearn\\utils\\deprecation.py:122: FutureWarning: You are accessing a training score ('split2_train_score'), which will not be available by default any more in 0.21. If you need training scores, please set return_train_score=True\n",
      "  warnings.warn(*warn_args, **warn_kwargs)\n",
      "C:\\ProgramData\\Anaconda3\\lib\\site-packages\\sklearn\\utils\\deprecation.py:122: FutureWarning: You are accessing a training score ('split3_train_score'), which will not be available by default any more in 0.21. If you need training scores, please set return_train_score=True\n",
      "  warnings.warn(*warn_args, **warn_kwargs)\n",
      "C:\\ProgramData\\Anaconda3\\lib\\site-packages\\sklearn\\utils\\deprecation.py:122: FutureWarning: You are accessing a training score ('split4_train_score'), which will not be available by default any more in 0.21. If you need training scores, please set return_train_score=True\n",
      "  warnings.warn(*warn_args, **warn_kwargs)\n",
      "C:\\ProgramData\\Anaconda3\\lib\\site-packages\\sklearn\\utils\\deprecation.py:122: FutureWarning: You are accessing a training score ('std_train_score'), which will not be available by default any more in 0.21. If you need training scores, please set return_train_score=True\n",
      "  warnings.warn(*warn_args, **warn_kwargs)\n"
     ]
    },
    {
     "data": {
      "text/plain": [
       "{'mean_fit_time': array([0.01560941, 0.0130085 , 0.0130084 , 0.01280861, 0.01300793,\n",
       "        0.0172122 , 0.02161441, 0.02381539, 0.02321548, 0.01300859,\n",
       "        0.01300845, 0.01300802, 0.01300921, 0.01300864, 0.01701083,\n",
       "        0.02201481, 0.02341633, 0.02301574, 0.01300864, 0.01300735,\n",
       "        0.01300879, 0.01300869, 0.01300864, 0.01701045, 0.02181411,\n",
       "        0.02341518, 0.02341523, 0.01300864, 0.0128087 , 0.01300859,\n",
       "        0.01160698, 0.01300821, 0.01801271, 0.02261524, 0.02381592,\n",
       "        0.02381601, 0.01300874, 0.01280861, 0.01000681, 0.0092062 ,\n",
       "        0.01220822, 0.01761179, 0.02381577, 0.02501645, 0.02521672,\n",
       "        0.01300845, 0.00960536, 0.00920587, 0.01000686, 0.01581025,\n",
       "        0.02641754, 0.02881894, 0.02901859, 0.02901902, 0.00980668,\n",
       "        0.00940585, 0.01020751, 0.0198132 , 0.01781154, 0.02981882,\n",
       "        0.02801809, 0.02901864, 0.02941909, 0.00960693, 0.01100736,\n",
       "        0.02661762, 0.09546256, 0.01961188, 0.02801681, 0.02961969,\n",
       "        0.03122101, 0.02961912, 0.01120701, 0.02941928, 0.16651058,\n",
       "        0.38766069, 0.01761179, 0.02641749, 0.0282187 , 0.02901931,\n",
       "        0.02881832]),\n",
       " 'mean_score_time': array([0.00340261, 0.00240107, 0.00260262, 0.00260172, 0.00260162,\n",
       "        0.00240154, 0.0050034 , 0.00560384, 0.00540366, 0.00260172,\n",
       "        0.00240149, 0.00260153, 0.00260158, 0.00240145, 0.00280166,\n",
       "        0.00480299, 0.00520349, 0.00560384, 0.00240169, 0.00240164,\n",
       "        0.00260153, 0.0028018 , 0.00240169, 0.00280161, 0.00480304,\n",
       "        0.00520325, 0.00520334, 0.00240145, 0.00280175, 0.00240145,\n",
       "        0.00220122, 0.00260153, 0.00200119, 0.00440278, 0.00560379,\n",
       "        0.00540361, 0.0028019 , 0.00260153, 0.00200124, 0.00180106,\n",
       "        0.00220127, 0.00240173, 0.00480294, 0.00580397, 0.00540333,\n",
       "        0.0024014 , 0.00200157, 0.00200138, 0.00160136, 0.00200143,\n",
       "        0.00280185, 0.00480285, 0.00520291, 0.0052032 , 0.00160065,\n",
       "        0.00160136, 0.00180116, 0.00160117, 0.00200167, 0.00240197,\n",
       "        0.00500302, 0.00520353, 0.0052031 , 0.00180106, 0.0018012 ,\n",
       "        0.00140104, 0.00160127, 0.00200109, 0.00260177, 0.00480318,\n",
       "        0.00640454, 0.00580544, 0.00180163, 0.00160146, 0.00160151,\n",
       "        0.00120134, 0.00200143, 0.00260162, 0.00500336, 0.00500317,\n",
       "        0.00560369]),\n",
       " 'mean_test_score': array([0.65309446, 0.65309446, 0.65309446, 0.65309446, 0.65309446,\n",
       "        0.65309446, 0.65309446, 0.65309446, 0.65309446, 0.65309446,\n",
       "        0.65309446, 0.65309446, 0.65309446, 0.65309446, 0.65309446,\n",
       "        0.65309446, 0.65309446, 0.65309446, 0.65309446, 0.65309446,\n",
       "        0.65309446, 0.65309446, 0.65309446, 0.65309446, 0.65309446,\n",
       "        0.65309446, 0.65309446, 0.65309446, 0.65309446, 0.76221498,\n",
       "        0.71986971, 0.66286645, 0.65309446, 0.65309446, 0.65309446,\n",
       "        0.65309446, 0.65309446, 0.76547231, 0.752443  , 0.76221498,\n",
       "        0.68729642, 0.65309446, 0.65309446, 0.65309446, 0.65309446,\n",
       "        0.76221498, 0.75407166, 0.76872964, 0.75407166, 0.72801303,\n",
       "        0.65472313, 0.65309446, 0.65309446, 0.65309446, 0.75570033,\n",
       "        0.76384365, 0.76547231, 0.73452769, 0.72149837, 0.65472313,\n",
       "        0.65309446, 0.65309446, 0.65309446, 0.76221498, 0.76384365,\n",
       "        0.75732899, 0.67915309, 0.71986971, 0.65472313, 0.65309446,\n",
       "        0.65309446, 0.65309446, 0.76384365, 0.76221498, 0.752443  ,\n",
       "        0.66123779, 0.71986971, 0.65472313, 0.65309446, 0.65309446,\n",
       "        0.65309446]),\n",
       " 'mean_train_score': array([0.65309498, 0.65309498, 0.65309498, 0.65309498, 0.65309498,\n",
       "        0.65309498, 0.65309498, 0.65309498, 0.65309498, 0.65309498,\n",
       "        0.65309498, 0.65309498, 0.65309498, 0.65309498, 0.65309498,\n",
       "        0.65309498, 0.65309498, 0.65309498, 0.65309498, 0.65309498,\n",
       "        0.65309498, 0.65309498, 0.65309498, 0.65309498, 0.65309498,\n",
       "        0.65309498, 0.65309498, 0.65309498, 0.65309498, 0.76710259,\n",
       "        0.72434755, 0.70596704, 0.65309498, 0.65309498, 0.65309498,\n",
       "        0.65309498, 0.65309498, 0.76100752, 0.75815039, 0.78582913,\n",
       "        0.84163374, 0.99348102, 0.65309498, 0.65309498, 0.65309498,\n",
       "        0.76182467, 0.7601829 , 0.77484109, 0.83021846, 0.98819315,\n",
       "        1.        , 1.        , 1.        , 1.        , 0.76018456,\n",
       "        0.76873772, 0.78135344, 0.87133918, 1.        , 1.        ,\n",
       "        1.        , 1.        , 1.        , 0.76751904, 0.77077357,\n",
       "        0.80171926, 0.93037426, 1.        , 1.        , 1.        ,\n",
       "        1.        , 1.        , 0.77077273, 0.77850709, 0.83143299,\n",
       "        0.97678866, 1.        , 1.        , 1.        , 1.        ,\n",
       "        1.        ]),\n",
       " 'param_C': masked_array(data=[0.0001, 0.0001, 0.0001, 0.0001, 0.0001, 0.0001, 0.0001,\n",
       "                    0.0001, 0.0001, 0.001, 0.001, 0.001, 0.001, 0.001,\n",
       "                    0.001, 0.001, 0.001, 0.001, 0.01, 0.01, 0.01, 0.01,\n",
       "                    0.01, 0.01, 0.01, 0.01, 0.01, 0.1, 0.1, 0.1, 0.1, 0.1,\n",
       "                    0.1, 0.1, 0.1, 0.1, 1.0, 1.0, 1.0, 1.0, 1.0, 1.0, 1.0,\n",
       "                    1.0, 1.0, 10.0, 10.0, 10.0, 10.0, 10.0, 10.0, 10.0,\n",
       "                    10.0, 10.0, 100.0, 100.0, 100.0, 100.0, 100.0, 100.0,\n",
       "                    100.0, 100.0, 100.0, 1000.0, 1000.0, 1000.0, 1000.0,\n",
       "                    1000.0, 1000.0, 1000.0, 1000.0, 1000.0, 10000.0,\n",
       "                    10000.0, 10000.0, 10000.0, 10000.0, 10000.0, 10000.0,\n",
       "                    10000.0, 10000.0],\n",
       "              mask=[False, False, False, False, False, False, False, False,\n",
       "                    False, False, False, False, False, False, False, False,\n",
       "                    False, False, False, False, False, False, False, False,\n",
       "                    False, False, False, False, False, False, False, False,\n",
       "                    False, False, False, False, False, False, False, False,\n",
       "                    False, False, False, False, False, False, False, False,\n",
       "                    False, False, False, False, False, False, False, False,\n",
       "                    False, False, False, False, False, False, False, False,\n",
       "                    False, False, False, False, False, False, False, False,\n",
       "                    False, False, False, False, False, False, False, False,\n",
       "                    False],\n",
       "        fill_value='?',\n",
       "             dtype=object),\n",
       " 'param_gamma': masked_array(data=[0.0001, 0.001, 0.01, 0.1, 1.0, 10.0, 100.0, 1000.0,\n",
       "                    10000.0, 0.0001, 0.001, 0.01, 0.1, 1.0, 10.0, 100.0,\n",
       "                    1000.0, 10000.0, 0.0001, 0.001, 0.01, 0.1, 1.0, 10.0,\n",
       "                    100.0, 1000.0, 10000.0, 0.0001, 0.001, 0.01, 0.1, 1.0,\n",
       "                    10.0, 100.0, 1000.0, 10000.0, 0.0001, 0.001, 0.01, 0.1,\n",
       "                    1.0, 10.0, 100.0, 1000.0, 10000.0, 0.0001, 0.001, 0.01,\n",
       "                    0.1, 1.0, 10.0, 100.0, 1000.0, 10000.0, 0.0001, 0.001,\n",
       "                    0.01, 0.1, 1.0, 10.0, 100.0, 1000.0, 10000.0, 0.0001,\n",
       "                    0.001, 0.01, 0.1, 1.0, 10.0, 100.0, 1000.0, 10000.0,\n",
       "                    0.0001, 0.001, 0.01, 0.1, 1.0, 10.0, 100.0, 1000.0,\n",
       "                    10000.0],\n",
       "              mask=[False, False, False, False, False, False, False, False,\n",
       "                    False, False, False, False, False, False, False, False,\n",
       "                    False, False, False, False, False, False, False, False,\n",
       "                    False, False, False, False, False, False, False, False,\n",
       "                    False, False, False, False, False, False, False, False,\n",
       "                    False, False, False, False, False, False, False, False,\n",
       "                    False, False, False, False, False, False, False, False,\n",
       "                    False, False, False, False, False, False, False, False,\n",
       "                    False, False, False, False, False, False, False, False,\n",
       "                    False, False, False, False, False, False, False, False,\n",
       "                    False],\n",
       "        fill_value='?',\n",
       "             dtype=object),\n",
       " 'params': [{'C': 0.0001, 'gamma': 0.0001},\n",
       "  {'C': 0.0001, 'gamma': 0.001},\n",
       "  {'C': 0.0001, 'gamma': 0.01},\n",
       "  {'C': 0.0001, 'gamma': 0.1},\n",
       "  {'C': 0.0001, 'gamma': 1.0},\n",
       "  {'C': 0.0001, 'gamma': 10.0},\n",
       "  {'C': 0.0001, 'gamma': 100.0},\n",
       "  {'C': 0.0001, 'gamma': 1000.0},\n",
       "  {'C': 0.0001, 'gamma': 10000.0},\n",
       "  {'C': 0.001, 'gamma': 0.0001},\n",
       "  {'C': 0.001, 'gamma': 0.001},\n",
       "  {'C': 0.001, 'gamma': 0.01},\n",
       "  {'C': 0.001, 'gamma': 0.1},\n",
       "  {'C': 0.001, 'gamma': 1.0},\n",
       "  {'C': 0.001, 'gamma': 10.0},\n",
       "  {'C': 0.001, 'gamma': 100.0},\n",
       "  {'C': 0.001, 'gamma': 1000.0},\n",
       "  {'C': 0.001, 'gamma': 10000.0},\n",
       "  {'C': 0.01, 'gamma': 0.0001},\n",
       "  {'C': 0.01, 'gamma': 0.001},\n",
       "  {'C': 0.01, 'gamma': 0.01},\n",
       "  {'C': 0.01, 'gamma': 0.1},\n",
       "  {'C': 0.01, 'gamma': 1.0},\n",
       "  {'C': 0.01, 'gamma': 10.0},\n",
       "  {'C': 0.01, 'gamma': 100.0},\n",
       "  {'C': 0.01, 'gamma': 1000.0},\n",
       "  {'C': 0.01, 'gamma': 10000.0},\n",
       "  {'C': 0.1, 'gamma': 0.0001},\n",
       "  {'C': 0.1, 'gamma': 0.001},\n",
       "  {'C': 0.1, 'gamma': 0.01},\n",
       "  {'C': 0.1, 'gamma': 0.1},\n",
       "  {'C': 0.1, 'gamma': 1.0},\n",
       "  {'C': 0.1, 'gamma': 10.0},\n",
       "  {'C': 0.1, 'gamma': 100.0},\n",
       "  {'C': 0.1, 'gamma': 1000.0},\n",
       "  {'C': 0.1, 'gamma': 10000.0},\n",
       "  {'C': 1.0, 'gamma': 0.0001},\n",
       "  {'C': 1.0, 'gamma': 0.001},\n",
       "  {'C': 1.0, 'gamma': 0.01},\n",
       "  {'C': 1.0, 'gamma': 0.1},\n",
       "  {'C': 1.0, 'gamma': 1.0},\n",
       "  {'C': 1.0, 'gamma': 10.0},\n",
       "  {'C': 1.0, 'gamma': 100.0},\n",
       "  {'C': 1.0, 'gamma': 1000.0},\n",
       "  {'C': 1.0, 'gamma': 10000.0},\n",
       "  {'C': 10.0, 'gamma': 0.0001},\n",
       "  {'C': 10.0, 'gamma': 0.001},\n",
       "  {'C': 10.0, 'gamma': 0.01},\n",
       "  {'C': 10.0, 'gamma': 0.1},\n",
       "  {'C': 10.0, 'gamma': 1.0},\n",
       "  {'C': 10.0, 'gamma': 10.0},\n",
       "  {'C': 10.0, 'gamma': 100.0},\n",
       "  {'C': 10.0, 'gamma': 1000.0},\n",
       "  {'C': 10.0, 'gamma': 10000.0},\n",
       "  {'C': 100.0, 'gamma': 0.0001},\n",
       "  {'C': 100.0, 'gamma': 0.001},\n",
       "  {'C': 100.0, 'gamma': 0.01},\n",
       "  {'C': 100.0, 'gamma': 0.1},\n",
       "  {'C': 100.0, 'gamma': 1.0},\n",
       "  {'C': 100.0, 'gamma': 10.0},\n",
       "  {'C': 100.0, 'gamma': 100.0},\n",
       "  {'C': 100.0, 'gamma': 1000.0},\n",
       "  {'C': 100.0, 'gamma': 10000.0},\n",
       "  {'C': 1000.0, 'gamma': 0.0001},\n",
       "  {'C': 1000.0, 'gamma': 0.001},\n",
       "  {'C': 1000.0, 'gamma': 0.01},\n",
       "  {'C': 1000.0, 'gamma': 0.1},\n",
       "  {'C': 1000.0, 'gamma': 1.0},\n",
       "  {'C': 1000.0, 'gamma': 10.0},\n",
       "  {'C': 1000.0, 'gamma': 100.0},\n",
       "  {'C': 1000.0, 'gamma': 1000.0},\n",
       "  {'C': 1000.0, 'gamma': 10000.0},\n",
       "  {'C': 10000.0, 'gamma': 0.0001},\n",
       "  {'C': 10000.0, 'gamma': 0.001},\n",
       "  {'C': 10000.0, 'gamma': 0.01},\n",
       "  {'C': 10000.0, 'gamma': 0.1},\n",
       "  {'C': 10000.0, 'gamma': 1.0},\n",
       "  {'C': 10000.0, 'gamma': 10.0},\n",
       "  {'C': 10000.0, 'gamma': 100.0},\n",
       "  {'C': 10000.0, 'gamma': 1000.0},\n",
       "  {'C': 10000.0, 'gamma': 10000.0}],\n",
       " 'rank_test_score': array([32, 32, 32, 32, 32, 32, 32, 32, 32, 32, 32, 32, 32, 32, 32, 32, 32,\n",
       "        32, 32, 32, 32, 32, 32, 32, 32, 32, 32, 32, 32,  7, 21, 26, 32, 32,\n",
       "        32, 32, 32,  2, 16,  7, 24, 32, 32, 32, 32,  7, 14,  1, 14, 19, 28,\n",
       "        32, 32, 32, 13,  4,  2, 18, 20, 28, 32, 32, 32,  7,  4, 12, 25, 21,\n",
       "        28, 32, 32, 32,  4,  7, 16, 27, 21, 28, 32, 32, 32]),\n",
       " 'split0_test_score': array([0.65322581, 0.65322581, 0.65322581, 0.65322581, 0.65322581,\n",
       "        0.65322581, 0.65322581, 0.65322581, 0.65322581, 0.65322581,\n",
       "        0.65322581, 0.65322581, 0.65322581, 0.65322581, 0.65322581,\n",
       "        0.65322581, 0.65322581, 0.65322581, 0.65322581, 0.65322581,\n",
       "        0.65322581, 0.65322581, 0.65322581, 0.65322581, 0.65322581,\n",
       "        0.65322581, 0.65322581, 0.65322581, 0.65322581, 0.77419355,\n",
       "        0.74193548, 0.66129032, 0.65322581, 0.65322581, 0.65322581,\n",
       "        0.65322581, 0.65322581, 0.77419355, 0.73387097, 0.76612903,\n",
       "        0.67741935, 0.65322581, 0.65322581, 0.65322581, 0.65322581,\n",
       "        0.77419355, 0.73387097, 0.75806452, 0.76612903, 0.73387097,\n",
       "        0.65322581, 0.65322581, 0.65322581, 0.65322581, 0.74193548,\n",
       "        0.76612903, 0.76612903, 0.75      , 0.72580645, 0.65322581,\n",
       "        0.65322581, 0.65322581, 0.65322581, 0.75806452, 0.75806452,\n",
       "        0.77419355, 0.7016129 , 0.72580645, 0.65322581, 0.65322581,\n",
       "        0.65322581, 0.65322581, 0.77419355, 0.76612903, 0.75      ,\n",
       "        0.61290323, 0.72580645, 0.65322581, 0.65322581, 0.65322581,\n",
       "        0.65322581]),\n",
       " 'split0_train_score': array([0.65306122, 0.65306122, 0.65306122, 0.65306122, 0.65306122,\n",
       "        0.65306122, 0.65306122, 0.65306122, 0.65306122, 0.65306122,\n",
       "        0.65306122, 0.65306122, 0.65306122, 0.65306122, 0.65306122,\n",
       "        0.65306122, 0.65306122, 0.65306122, 0.65306122, 0.65306122,\n",
       "        0.65306122, 0.65306122, 0.65306122, 0.65306122, 0.65306122,\n",
       "        0.65306122, 0.65306122, 0.65306122, 0.65306122, 0.76530612,\n",
       "        0.71836735, 0.67346939, 0.65306122, 0.65306122, 0.65306122,\n",
       "        0.65306122, 0.65306122, 0.76938776, 0.76326531, 0.78367347,\n",
       "        0.86326531, 0.99387755, 0.65306122, 0.65306122, 0.65306122,\n",
       "        0.77142857, 0.76122449, 0.78163265, 0.83265306, 0.98979592,\n",
       "        1.        , 1.        , 1.        , 1.        , 0.76326531,\n",
       "        0.77346939, 0.78571429, 0.87346939, 1.        , 1.        ,\n",
       "        1.        , 1.        , 1.        , 0.7755102 , 0.77959184,\n",
       "        0.81020408, 0.92653061, 1.        , 1.        , 1.        ,\n",
       "        1.        , 1.        , 0.7755102 , 0.7877551 , 0.82653061,\n",
       "        0.97346939, 1.        , 1.        , 1.        , 1.        ,\n",
       "        1.        ]),\n",
       " 'split1_test_score': array([0.6504065 , 0.6504065 , 0.6504065 , 0.6504065 , 0.6504065 ,\n",
       "        0.6504065 , 0.6504065 , 0.6504065 , 0.6504065 , 0.6504065 ,\n",
       "        0.6504065 , 0.6504065 , 0.6504065 , 0.6504065 , 0.6504065 ,\n",
       "        0.6504065 , 0.6504065 , 0.6504065 , 0.6504065 , 0.6504065 ,\n",
       "        0.6504065 , 0.6504065 , 0.6504065 , 0.6504065 , 0.6504065 ,\n",
       "        0.6504065 , 0.6504065 , 0.6504065 , 0.6504065 , 0.71544715,\n",
       "        0.72357724, 0.6504065 , 0.6504065 , 0.6504065 , 0.6504065 ,\n",
       "        0.6504065 , 0.6504065 , 0.71544715, 0.72357724, 0.74796748,\n",
       "        0.69105691, 0.6504065 , 0.6504065 , 0.6504065 , 0.6504065 ,\n",
       "        0.71544715, 0.72357724, 0.74796748, 0.70731707, 0.72357724,\n",
       "        0.65853659, 0.6504065 , 0.6504065 , 0.6504065 , 0.72357724,\n",
       "        0.72357724, 0.74796748, 0.68292683, 0.74796748, 0.65853659,\n",
       "        0.6504065 , 0.6504065 , 0.6504065 , 0.72357724, 0.7398374 ,\n",
       "        0.7398374 , 0.68292683, 0.7398374 , 0.65853659, 0.6504065 ,\n",
       "        0.6504065 , 0.6504065 , 0.71544715, 0.7398374 , 0.70731707,\n",
       "        0.65853659, 0.7398374 , 0.65853659, 0.6504065 , 0.6504065 ,\n",
       "        0.6504065 ]),\n",
       " 'split1_train_score': array([0.65376782, 0.65376782, 0.65376782, 0.65376782, 0.65376782,\n",
       "        0.65376782, 0.65376782, 0.65376782, 0.65376782, 0.65376782,\n",
       "        0.65376782, 0.65376782, 0.65376782, 0.65376782, 0.65376782,\n",
       "        0.65376782, 0.65376782, 0.65376782, 0.65376782, 0.65376782,\n",
       "        0.65376782, 0.65376782, 0.65376782, 0.65376782, 0.65376782,\n",
       "        0.65376782, 0.65376782, 0.65376782, 0.65376782, 0.77393075,\n",
       "        0.71894094, 0.65376782, 0.65376782, 0.65376782, 0.65376782,\n",
       "        0.65376782, 0.65376782, 0.76985743, 0.75967413, 0.79022403,\n",
       "        0.83910387, 0.98778004, 0.65376782, 0.65376782, 0.65376782,\n",
       "        0.77393075, 0.76374745, 0.76985743, 0.84928717, 0.98574338,\n",
       "        1.        , 1.        , 1.        , 1.        , 0.76374745,\n",
       "        0.77393075, 0.77596741, 0.87983707, 1.        , 1.        ,\n",
       "        1.        , 1.        , 1.        , 0.77393075, 0.76578411,\n",
       "        0.81466395, 0.94093686, 1.        , 1.        , 1.        ,\n",
       "        1.        , 1.        , 0.77189409, 0.77189409, 0.84928717,\n",
       "        0.97352342, 1.        , 1.        , 1.        , 1.        ,\n",
       "        1.        ]),\n",
       " 'split2_test_score': array([0.6504065 , 0.6504065 , 0.6504065 , 0.6504065 , 0.6504065 ,\n",
       "        0.6504065 , 0.6504065 , 0.6504065 , 0.6504065 , 0.6504065 ,\n",
       "        0.6504065 , 0.6504065 , 0.6504065 , 0.6504065 , 0.6504065 ,\n",
       "        0.6504065 , 0.6504065 , 0.6504065 , 0.6504065 , 0.6504065 ,\n",
       "        0.6504065 , 0.6504065 , 0.6504065 , 0.6504065 , 0.6504065 ,\n",
       "        0.6504065 , 0.6504065 , 0.6504065 , 0.6504065 , 0.77235772,\n",
       "        0.68292683, 0.6504065 , 0.6504065 , 0.6504065 , 0.6504065 ,\n",
       "        0.6504065 , 0.6504065 , 0.77235772, 0.74796748, 0.75609756,\n",
       "        0.66666667, 0.6504065 , 0.6504065 , 0.6504065 , 0.6504065 ,\n",
       "        0.76422764, 0.74796748, 0.76422764, 0.76422764, 0.7398374 ,\n",
       "        0.65853659, 0.6504065 , 0.6504065 , 0.6504065 , 0.74796748,\n",
       "        0.77235772, 0.75609756, 0.71544715, 0.73170732, 0.65853659,\n",
       "        0.6504065 , 0.6504065 , 0.6504065 , 0.77235772, 0.77235772,\n",
       "        0.77235772, 0.67479675, 0.73170732, 0.65853659, 0.6504065 ,\n",
       "        0.6504065 , 0.6504065 , 0.76422764, 0.75609756, 0.77235772,\n",
       "        0.70731707, 0.73170732, 0.65853659, 0.6504065 , 0.6504065 ,\n",
       "        0.6504065 ]),\n",
       " 'split2_train_score': array([0.65376782, 0.65376782, 0.65376782, 0.65376782, 0.65376782,\n",
       "        0.65376782, 0.65376782, 0.65376782, 0.65376782, 0.65376782,\n",
       "        0.65376782, 0.65376782, 0.65376782, 0.65376782, 0.65376782,\n",
       "        0.65376782, 0.65376782, 0.65376782, 0.65376782, 0.65376782,\n",
       "        0.65376782, 0.65376782, 0.65376782, 0.65376782, 0.65376782,\n",
       "        0.65376782, 0.65376782, 0.65376782, 0.65376782, 0.76782077,\n",
       "        0.73930754, 0.67820774, 0.65376782, 0.65376782, 0.65376782,\n",
       "        0.65376782, 0.65376782, 0.76985743, 0.76374745, 0.78207739,\n",
       "        0.85336049, 0.98778004, 0.65376782, 0.65376782, 0.65376782,\n",
       "        0.77189409, 0.76374745, 0.77596741, 0.82281059, 0.9898167 ,\n",
       "        1.        , 1.        , 1.        , 1.        , 0.76374745,\n",
       "        0.77393075, 0.78207739, 0.86761711, 1.        , 1.        ,\n",
       "        1.        , 1.        , 1.        , 0.77189409, 0.77800407,\n",
       "        0.79429735, 0.92668024, 1.        , 1.        , 1.        ,\n",
       "        1.        , 1.        , 0.77800407, 0.78004073, 0.82281059,\n",
       "        0.9796334 , 1.        , 1.        , 1.        , 1.        ,\n",
       "        1.        ]),\n",
       " 'split3_test_score': array([0.6557377 , 0.6557377 , 0.6557377 , 0.6557377 , 0.6557377 ,\n",
       "        0.6557377 , 0.6557377 , 0.6557377 , 0.6557377 , 0.6557377 ,\n",
       "        0.6557377 , 0.6557377 , 0.6557377 , 0.6557377 , 0.6557377 ,\n",
       "        0.6557377 , 0.6557377 , 0.6557377 , 0.6557377 , 0.6557377 ,\n",
       "        0.6557377 , 0.6557377 , 0.6557377 , 0.6557377 , 0.6557377 ,\n",
       "        0.6557377 , 0.6557377 , 0.6557377 , 0.6557377 , 0.77868852,\n",
       "        0.78688525, 0.68032787, 0.6557377 , 0.6557377 , 0.6557377 ,\n",
       "        0.6557377 , 0.6557377 , 0.79508197, 0.82786885, 0.81967213,\n",
       "        0.72131148, 0.6557377 , 0.6557377 , 0.6557377 , 0.6557377 ,\n",
       "        0.78688525, 0.82786885, 0.8442623 , 0.81967213, 0.70491803,\n",
       "        0.6557377 , 0.6557377 , 0.6557377 , 0.6557377 , 0.82786885,\n",
       "        0.8442623 , 0.83606557, 0.80327869, 0.68852459, 0.6557377 ,\n",
       "        0.6557377 , 0.6557377 , 0.6557377 , 0.8442623 , 0.83606557,\n",
       "        0.80327869, 0.68852459, 0.68852459, 0.6557377 , 0.6557377 ,\n",
       "        0.6557377 , 0.6557377 , 0.8442623 , 0.82786885, 0.81967213,\n",
       "        0.67213115, 0.68852459, 0.6557377 , 0.6557377 , 0.6557377 ,\n",
       "        0.6557377 ]),\n",
       " 'split3_train_score': array([0.65243902, 0.65243902, 0.65243902, 0.65243902, 0.65243902,\n",
       "        0.65243902, 0.65243902, 0.65243902, 0.65243902, 0.65243902,\n",
       "        0.65243902, 0.65243902, 0.65243902, 0.65243902, 0.65243902,\n",
       "        0.65243902, 0.65243902, 0.65243902, 0.65243902, 0.65243902,\n",
       "        0.65243902, 0.65243902, 0.65243902, 0.65243902, 0.65243902,\n",
       "        0.65243902, 0.65243902, 0.65243902, 0.65243902, 0.76219512,\n",
       "        0.71138211, 0.77845528, 0.65243902, 0.65243902, 0.65243902,\n",
       "        0.65243902, 0.65243902, 0.73373984, 0.7398374 , 0.7804878 ,\n",
       "        0.83536585, 0.99796748, 0.65243902, 0.65243902, 0.65243902,\n",
       "        0.72764228, 0.74593496, 0.7601626 , 0.81504065, 0.98577236,\n",
       "        1.        , 1.        , 1.        , 1.        , 0.74593496,\n",
       "        0.75813008, 0.76219512, 0.8699187 , 1.        , 1.        ,\n",
       "        1.        , 1.        , 1.        , 0.75203252, 0.75813008,\n",
       "        0.7804878 , 0.92682927, 1.        , 1.        , 1.        ,\n",
       "        1.        , 1.        , 0.76422764, 0.75813008, 0.82926829,\n",
       "        0.97764228, 1.        , 1.        , 1.        , 1.        ,\n",
       "        1.        ]),\n",
       " 'split4_test_score': array([0.6557377 , 0.6557377 , 0.6557377 , 0.6557377 , 0.6557377 ,\n",
       "        0.6557377 , 0.6557377 , 0.6557377 , 0.6557377 , 0.6557377 ,\n",
       "        0.6557377 , 0.6557377 , 0.6557377 , 0.6557377 , 0.6557377 ,\n",
       "        0.6557377 , 0.6557377 , 0.6557377 , 0.6557377 , 0.6557377 ,\n",
       "        0.6557377 , 0.6557377 , 0.6557377 , 0.6557377 , 0.6557377 ,\n",
       "        0.6557377 , 0.6557377 , 0.6557377 , 0.6557377 , 0.7704918 ,\n",
       "        0.66393443, 0.67213115, 0.6557377 , 0.6557377 , 0.6557377 ,\n",
       "        0.6557377 , 0.6557377 , 0.7704918 , 0.7295082 , 0.72131148,\n",
       "        0.68032787, 0.6557377 , 0.6557377 , 0.6557377 , 0.6557377 ,\n",
       "        0.7704918 , 0.73770492, 0.7295082 , 0.71311475, 0.73770492,\n",
       "        0.64754098, 0.6557377 , 0.6557377 , 0.6557377 , 0.73770492,\n",
       "        0.71311475, 0.72131148, 0.72131148, 0.71311475, 0.64754098,\n",
       "        0.6557377 , 0.6557377 , 0.6557377 , 0.71311475, 0.71311475,\n",
       "        0.69672131, 0.64754098, 0.71311475, 0.64754098, 0.6557377 ,\n",
       "        0.6557377 , 0.6557377 , 0.72131148, 0.72131148, 0.71311475,\n",
       "        0.6557377 , 0.71311475, 0.64754098, 0.6557377 , 0.6557377 ,\n",
       "        0.6557377 ]),\n",
       " 'split4_train_score': array([0.65243902, 0.65243902, 0.65243902, 0.65243902, 0.65243902,\n",
       "        0.65243902, 0.65243902, 0.65243902, 0.65243902, 0.65243902,\n",
       "        0.65243902, 0.65243902, 0.65243902, 0.65243902, 0.65243902,\n",
       "        0.65243902, 0.65243902, 0.65243902, 0.65243902, 0.65243902,\n",
       "        0.65243902, 0.65243902, 0.65243902, 0.65243902, 0.65243902,\n",
       "        0.65243902, 0.65243902, 0.65243902, 0.65243902, 0.76626016,\n",
       "        0.73373984, 0.74593496, 0.65243902, 0.65243902, 0.65243902,\n",
       "        0.65243902, 0.65243902, 0.76219512, 0.76422764, 0.79268293,\n",
       "        0.81707317, 1.        , 0.65243902, 0.65243902, 0.65243902,\n",
       "        0.76422764, 0.76626016, 0.78658537, 0.83130081, 0.9898374 ,\n",
       "        1.        , 1.        , 1.        , 1.        , 0.76422764,\n",
       "        0.76422764, 0.80081301, 0.86585366, 1.        , 1.        ,\n",
       "        1.        , 1.        , 1.        , 0.76422764, 0.77235772,\n",
       "        0.80894309, 0.93089431, 1.        , 1.        , 1.        ,\n",
       "        1.        , 1.        , 0.76422764, 0.79471545, 0.82926829,\n",
       "        0.9796748 , 1.        , 1.        , 1.        , 1.        ,\n",
       "        1.        ]),\n",
       " 'std_fit_time': array([2.41742878e-03, 1.90734863e-07, 4.10190833e-07, 4.00209441e-04,\n",
       "        1.46506228e-06, 3.99806145e-04, 4.90057117e-04, 9.81321731e-04,\n",
       "        4.00328846e-04, 1.50789149e-07, 5.76164530e-07, 4.15696997e-07,\n",
       "        1.12436544e-06, 4.10190833e-07, 1.90734863e-07, 8.97163759e-07,\n",
       "        4.91304519e-04, 1.80946979e-06, 9.53674316e-08, 1.30063836e-06,\n",
       "        3.16297988e-07, 2.43140197e-07, 1.78416128e-07, 1.46971083e-06,\n",
       "        4.00186902e-04, 4.88834947e-04, 4.90446491e-04, 9.53674316e-08,\n",
       "        4.00257139e-04, 1.50789149e-07, 4.89922634e-04, 1.90734863e-07,\n",
       "        1.58436277e-06, 4.90310237e-04, 4.00328704e-04, 4.00137912e-04,\n",
       "        1.16800773e-07, 4.00328675e-04, 1.16800773e-07, 4.00114074e-04,\n",
       "        7.48774263e-04, 4.90407519e-04, 4.00257309e-04, 2.34378924e-06,\n",
       "        7.48990934e-04, 3.87384339e-07, 4.90329667e-04, 4.00400318e-04,\n",
       "        1.12234137e-06, 4.00304865e-04, 4.90135007e-04, 1.72159325e-03,\n",
       "        8.95268811e-04, 8.94948929e-04, 4.00567236e-04, 4.90173941e-04,\n",
       "        4.00021236e-04, 1.60096885e-03, 3.99947802e-04, 5.63954175e-03,\n",
       "        8.95002166e-04, 8.94789101e-04, 1.20110522e-03, 4.90642071e-04,\n",
       "        6.32937475e-04, 1.02052489e-03, 2.37602562e-02, 1.35818191e-03,\n",
       "        1.41394249e-03, 1.96079302e-03, 4.49293870e-03, 1.49745931e-03,\n",
       "        4.00233393e-04, 4.08188207e-03, 2.82522168e-02, 4.93918352e-02,\n",
       "        4.90310237e-04, 4.90368632e-04, 9.80409451e-04, 6.32937493e-04,\n",
       "        7.47615057e-04]),\n",
       " 'std_score_time': array([4.90349959e-04, 4.90310284e-04, 4.91187881e-04, 4.90349125e-04,\n",
       "        4.90173987e-04, 4.90212913e-04, 1.78416128e-07, 4.90602326e-04,\n",
       "        4.90154518e-04, 4.90251785e-04, 4.90446491e-04, 4.90193437e-04,\n",
       "        4.90329691e-04, 4.90290788e-04, 4.00185766e-04, 4.00686420e-04,\n",
       "        4.00424043e-04, 4.90213215e-04, 4.90193390e-04, 4.90232393e-04,\n",
       "        4.89998792e-04, 4.00733976e-04, 4.90388074e-04, 4.00042545e-04,\n",
       "        4.00591053e-04, 4.00662461e-04, 4.00495685e-04, 4.90193437e-04,\n",
       "        4.00352506e-04, 4.90096135e-04, 4.00471812e-04, 4.90388120e-04,\n",
       "        1.16800773e-07, 4.90251831e-04, 4.90173964e-04, 4.90096089e-04,\n",
       "        4.00304809e-04, 4.89998722e-04, 1.78416128e-07, 4.00090313e-04,\n",
       "        4.00209498e-04, 4.90446468e-04, 4.00543270e-04, 7.49067400e-04,\n",
       "        4.90816328e-04, 4.90135007e-04, 5.09122765e-07, 3.87384339e-07,\n",
       "        4.89901475e-04, 5.13569337e-07, 4.00519382e-04, 4.00615203e-04,\n",
       "        4.00114216e-04, 4.00567292e-04, 4.90388259e-04, 4.89804116e-04,\n",
       "        4.00257139e-04, 4.90232324e-04, 5.35248383e-07, 4.90835835e-04,\n",
       "        2.33601546e-07, 4.00640028e-04, 4.00853196e-04, 4.00447874e-04,\n",
       "        4.00280963e-04, 4.90193437e-04, 4.90213006e-04, 8.03580262e-07,\n",
       "        4.90777440e-04, 4.00304922e-04, 1.85584914e-03, 7.50610262e-04,\n",
       "        4.00018735e-04, 4.89979520e-04, 4.89921520e-04, 3.99971037e-04,\n",
       "        3.23406696e-07, 4.90173941e-04, 3.23406696e-07, 3.16297988e-07,\n",
       "        4.90582772e-04]),\n",
       " 'std_test_score': array([0.00238217, 0.00238217, 0.00238217, 0.00238217, 0.00238217,\n",
       "        0.00238217, 0.00238217, 0.00238217, 0.00238217, 0.00238217,\n",
       "        0.00238217, 0.00238217, 0.00238217, 0.00238217, 0.00238217,\n",
       "        0.00238217, 0.00238217, 0.00238217, 0.00238217, 0.00238217,\n",
       "        0.00238217, 0.00238217, 0.00238217, 0.00238217, 0.00238217,\n",
       "        0.00238217, 0.00238217, 0.00238217, 0.00238217, 0.02356435,\n",
       "        0.04345715, 0.01184656, 0.00238217, 0.00238217, 0.00238217,\n",
       "        0.00238217, 0.00238217, 0.02655911, 0.03841229, 0.03224373,\n",
       "        0.01863698, 0.00238217, 0.00238217, 0.00238217, 0.00238217,\n",
       "        0.02454569, 0.03756986, 0.03940366, 0.04094287, 0.01278771,\n",
       "        0.00409062, 0.00238217, 0.00238217, 0.00238217, 0.0368263 ,\n",
       "        0.04622465, 0.03816753, 0.04035546, 0.01987411, 0.00409062,\n",
       "        0.00238217, 0.00238217, 0.00238217, 0.04625749, 0.04104206,\n",
       "        0.03624047, 0.01801507, 0.01787038, 0.00409062, 0.00238217,\n",
       "        0.00238217, 0.00238217, 0.04620948, 0.03605294, 0.04115794,\n",
       "        0.03046661, 0.01787038, 0.00409062, 0.00238217, 0.00238217,\n",
       "        0.00238217]),\n",
       " 'std_train_score': array([0.0005945 , 0.0005945 , 0.0005945 , 0.0005945 , 0.0005945 ,\n",
       "        0.0005945 , 0.0005945 , 0.0005945 , 0.0005945 , 0.0005945 ,\n",
       "        0.0005945 , 0.0005945 , 0.0005945 , 0.0005945 , 0.0005945 ,\n",
       "        0.0005945 , 0.0005945 , 0.0005945 , 0.0005945 , 0.0005945 ,\n",
       "        0.0005945 , 0.0005945 , 0.0005945 , 0.0005945 , 0.0005945 ,\n",
       "        0.0005945 , 0.0005945 , 0.0005945 , 0.0005945 , 0.00387711,\n",
       "        0.01044139, 0.0477565 , 0.0005945 , 0.0005945 , 0.0005945 ,\n",
       "        0.0005945 , 0.0005945 , 0.01394136, 0.00929634, 0.00476533,\n",
       "        0.01583887, 0.00505539, 0.0005945 , 0.0005945 , 0.0005945 ,\n",
       "        0.01740342, 0.00729978, 0.00922623, 0.01145388, 0.00198846,\n",
       "        0.        , 0.        , 0.        , 0.        , 0.0071313 ,\n",
       "        0.00646818, 0.0126037 , 0.00495408, 0.        , 0.        ,\n",
       "        0.        , 0.        , 0.        , 0.00865766, 0.00796623,\n",
       "        0.01263013, 0.00552857, 0.        , 0.        , 0.        ,\n",
       "        0.        , 0.        , 0.0056863 , 0.01272433, 0.00923604,\n",
       "        0.00278677, 0.        , 0.        , 0.        , 0.        ,\n",
       "        0.        ])}"
      ]
     },
     "execution_count": 107,
     "metadata": {},
     "output_type": "execute_result"
    }
   ],
   "source": [
    "# view the complete results (list of named tuples)\n",
    "grid.cv_results_"
   ]
  },
  {
   "cell_type": "code",
   "execution_count": 113,
   "metadata": {
    "scrolled": true
   },
   "outputs": [
    {
     "name": "stderr",
     "output_type": "stream",
     "text": [
      "C:\\ProgramData\\Anaconda3\\lib\\site-packages\\sklearn\\utils\\deprecation.py:122: FutureWarning: You are accessing a training score ('mean_train_score'), which will not be available by default any more in 0.21. If you need training scores, please set return_train_score=True\n",
      "  warnings.warn(*warn_args, **warn_kwargs)\n",
      "C:\\ProgramData\\Anaconda3\\lib\\site-packages\\sklearn\\utils\\deprecation.py:122: FutureWarning: You are accessing a training score ('std_train_score'), which will not be available by default any more in 0.21. If you need training scores, please set return_train_score=True\n",
      "  warnings.warn(*warn_args, **warn_kwargs)\n"
     ]
    },
    {
     "data": {
      "image/png": "[encoded data removed]",
      "text/plain": [
       "<Figure size 432x288 with 1 Axes>"
      ]
     },
     "metadata": {},
     "output_type": "display_data"
    }
   ],
   "source": [
    "# plot CV误差曲线\n",
    "test_means = grid.cv_results_[ 'mean_test_score' ]\n",
    "test_stds = grid.cv_results_[ 'std_test_score' ]\n",
    "train_means = grid.cv_results_[ 'mean_train_score' ]\n",
    "train_stds = grid.cv_results_[ 'std_train_score' ]\n",
    "\n",
    "\n",
    "# plot results\n",
    "n_Cs = len(C_s)\n",
    "n_gamma_s = len(gamma_s)\n",
    "test_scores = np.array(test_means).reshape(n_Cs,n_gamma_s)\n",
    "train_scores = np.array(train_means).reshape(n_Cs,n_gamma_s)\n",
    "test_stds = np.array(test_stds).reshape(n_Cs,n_gamma_s)\n",
    "train_stds = np.array(train_stds).reshape(n_Cs,n_gamma_s)\n",
    "\n",
    "x_axis = np.log10(C_s)\n",
    "for i, value in enumerate(gamma_s):\n",
    "    #pyplot.plot(log(Cs), test_scores[i], label= 'penalty:'   + str(value))\n",
    "    pyplot.errorbar(x_axis, test_scores[:,i], yerr=test_stds[:,i] ,label = 'gamma_s[i]' +' Test')\n",
    "    #pyplot.errorbar(x_axis, train_scores[:,i], yerr=train_stds[:,i] ,label = 'gamma_s[i]' +' Train')\n",
    "    \n",
    "pyplot.legend()\n",
    "pyplot.xlabel( 'log(C)' )                                                                                                      \n",
    "pyplot.ylabel( 'accuracy' )\n",
    "pyplot.savefig('LogisticGridSearchCV_C.png' )\n",
    "\n",
    "pyplot.show()"
   ]
  },
  {
   "cell_type": "code",
   "execution_count": 109,
   "metadata": {},
   "outputs": [
    {
     "name": "stdout",
     "output_type": "stream",
     "text": [
      "0.7687296416938111\n",
      "{'C': 10.0, 'gamma': 0.01}\n"
     ]
    }
   ],
   "source": [
    "# examine the best model\n",
    "print(grid.best_score_)\n",
    "print(grid.best_params_)"
   ]
  },
  {
   "cell_type": "code",
   "execution_count": 110,
   "metadata": {},
   "outputs": [
    {
     "name": "stdout",
     "output_type": "stream",
     "text": [
      "accuracy: 0.7727272727272727\n"
     ]
    }
   ],
   "source": [
    "best_rbfSVM_accuracy = SVC_performance(10.0, 0.01, X_train, y_train, X_test, y_test)"
   ]
  },
  {
   "cell_type": "markdown",
   "metadata": {},
   "source": [
    "两个参数组合比较多，所以图看起来比较乱，但可以直接得出最优参数  \n",
    "最终得到的最优参数为 C=10.0，gamma=0.01  \n",
    "在测试集上的正确率为0.7727272727272727，比线性核的最优参数所训练出来的模型在测试集（0.7662337662337663）上的正确率高"
   ]
  },
  {
   "cell_type": "code",
   "execution_count": null,
   "metadata": {},
   "outputs": [],
   "source": []
  },
  {
   "cell_type": "markdown",
   "metadata": {},
   "source": [
    "### 数据整理与对比"
   ]
  },
  {
   "cell_type": "markdown",
   "metadata": {},
   "source": [
    "1、根据api调用，其实class_weight是有自己的备选参数的，{dict, ‘balanced’，None}，也可以根据自己的比例计算，手动设置参数，balanced参数应该是模型自己计算并进行自适应，因为本数据集的样本分类不均衡，尝试过balanced参数，并进行结果对比，发现  \n",
    "\n",
    "分类的效果 ： 手动设置比例 > 设置为balanced > 不设置参数   \n",
    "\n",
    "注：根据计算的比例[0:0.3489, 1:0.6511]，在训练集和测试集中跑的效果都不错，比例改为[0:0.4 , 1:0.6]，在训练集上效果更好，但测试集上效果差点，最终选择第一个比例"
   ]
  },
  {
   "cell_type": "markdown",
   "metadata": {},
   "source": [
    "2、三头肌皮肤褶层厚度和血清胰岛素两个特征的0值太多了，物理含以上我认为应该去掉三头肌皮肤的特征，保留血清胰岛素特征，但实际操作中还是进行对比，并查看训练效果再决定"
   ]
  },
  {
   "cell_type": "markdown",
   "metadata": {},
   "source": [
    "#### 1)保留 Insulin 和 SkinThickness 两个特征"
   ]
  },
  {
   "cell_type": "markdown",
   "metadata": {},
   "source": [
    "default LinearSVC( C=1 )--train accuracy: 0.7524658953622853  \n",
    "default LinearSVC( C=1 )--test accuracy: 0.7597402597402597  \n",
    "\n",
    "best LinearSVC( C=0.01 )--train accuracy: 0.758957654723127  \n",
    "best LinearSVC( C=0.01 )--test accuracy:  0.7597402597402597\n",
    "\n",
    "best rbfSVC( C=1000.0,gamma=0.01 )--train accuracy: 0.7671009771986971  \n",
    "best rbfSVC( C=1000.0,gamma=0.01 )--test accuracy: 0.7662337662337663  "
   ]
  },
  {
   "cell_type": "markdown",
   "metadata": {},
   "source": [
    "#### 2)保留 Insulin 特征，去除 SkinThickness 特征 "
   ]
  },
  {
   "cell_type": "markdown",
   "metadata": {},
   "source": [
    "default LinearSVC( C=1 )--train accuracy: 0.7573310460761932    \n",
    "default LinearSVC( C=1 )--test accuracy: 0.7532467532467533   \n",
    "\n",
    "best LinearSVC( C=0.01 )--train accuracy: 0.7638436482084691  \n",
    "best LinearSVC( C=0.01 )--test accuracy: 0.7597402597402597  \n",
    "\n",
    "best rbfSVC( C=10.0, gamma=0.01 )--train accuracy: 0.7654723127035831   \n",
    "best rbfSVC( C=10.0, gamma=0.01 )--test accuracy: 0.7662337662337663  "
   ]
  },
  {
   "cell_type": "markdown",
   "metadata": {},
   "source": [
    "#### 3)保留 SkinThickness 特征，去除 Insulin 特征 "
   ]
  },
  {
   "cell_type": "markdown",
   "metadata": {},
   "source": [
    "default LinearSVC(C=1)--train accuracy: 0.7589568473685795  \n",
    "default LinearSVC(C=1)--test accuracy: 0.7532467532467533  \n",
    "\n",
    "best LinearSVC( C=0.01 )--train accuracy: 0.762214983713355  \n",
    "best LinearSVC( C=0.01 )--test accuracy: 0.7597402597402597  \n",
    "\n",
    "best rbfSVC( C=0.1, gamma=0.01 )--train accuracy: 0.7671009771986971\n",
    "best rbfSVC( C=0.1, gamma=0.01 )--test accuracy: 0.7012987012987013"
   ]
  },
  {
   "cell_type": "markdown",
   "metadata": {},
   "source": [
    "#### 4)去除Insulin 和 SkinThickness 两个特征 "
   ]
  },
  {
   "cell_type": "markdown",
   "metadata": {},
   "source": [
    "default LinearSVC(C=1)--train accuracy: 0.7605961916308746  \n",
    "default LinearSVC(C=1)--test accuracy: 0.7597402597402597\n",
    "\n",
    "best LinearSVC( C=0.01 )--train accuracy: 0.7671009771986971  \n",
    "best LinearSVC( C=0.01 )--test accuracy: 0.7662337662337663  \n",
    "\n",
    "best rbfSVC( C=10.0, gamma=0.01 )--train accuracy: 0.7687296416938111  \n",
    "best rbfSVC( C=10.0, gamma=0.01 )--test accuracy: 0.7727272727272727"
   ]
  },
  {
   "cell_type": "markdown",
   "metadata": {},
   "source": [
    "从以上结果来看，去除Insulin 和 SkinThickness 两个特征，不管在线性核还是RBF核，不管在训练集还是测试集，基本上都比其他的训练效果好，故应去除这两个特征。另外可看出，RBF核训练处的模型比线性核的训练模型预测效果更好，而对比logistic回归可发现，SVM训练的模型预测效果更好一些。"
   ]
  },
  {
   "cell_type": "code",
   "execution_count": null,
   "metadata": {},
   "outputs": [],
   "source": []
  }
 ],
 "metadata": {
  "kernelspec": {
   "display_name": "Python 3",
   "language": "python",
   "name": "python3"
  },
  "language_info": {
   "codemirror_mode": {
    "name": "ipython",
    "version": 3
   },
   "file_extension": ".py",
   "mimetype": "text/x-python",
   "name": "python",
   "nbconvert_exporter": "python",
   "pygments_lexer": "ipython3",
   "version": "3.6.5"
  }
 },
 "nbformat": 4,
 "nbformat_minor": 2
}
